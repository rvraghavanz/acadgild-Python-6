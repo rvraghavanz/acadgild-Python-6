{
 "cells": [
  {
   "cell_type": "markdown",
   "metadata": {},
   "source": [
    "<B> Write a function so that the columns of the output matrix are powers of the input\n",
    "vector</B>  \n",
    "\n",
    "The order of the powers is determined by the increasing boolean argument. Specifically,\n",
    "when increasing is False, the i-th output column is the input vector raised element-wise\n",
    "to the power of N - i - 1"
   ]
  },
  {
   "cell_type": "code",
   "execution_count": 20,
   "metadata": {},
   "outputs": [
    {
     "data": {
      "text/plain": [
       "array([[ 1,  1,  1],\n",
       "       [ 4,  2,  1],\n",
       "       [16,  4,  1],\n",
       "       [25,  5,  1]])"
      ]
     },
     "execution_count": 20,
     "metadata": {},
     "output_type": "execute_result"
    }
   ],
   "source": [
    "import numpy as np\n",
    "x = np.array([1, 2, 4, 5])\n",
    "N = 3\n",
    "np.vander(x, N)\n"
   ]
  },
  {
   "cell_type": "code",
   "execution_count": 15,
   "metadata": {},
   "outputs": [],
   "source": [
    "def vander_Input(x,N,order):\n",
    "    X=x.size\n",
    "    #result_array=np.empty((N,X),dtype=int)\n",
    "    result_array=np.zeros((N,X),dtype=int)\n",
    "    #result_array=x.reshape(1,x.shape[0]).transpose()\n",
    "       # arr_T=inp_arr.reshape(1,inp_arr.shape[0]).transpose()\n",
    "    if order.upper()==\"TRUE\":\n",
    "        for i in range(N):\n",
    "            power_vector=np.array(np.power(x,i))\n",
    "            result_array[i]=power_vector\n",
    "    else:\n",
    "        for i in range(N-1,-1,-1):\n",
    "            power_vector=np.array(np.power(x,i))\n",
    "            result_array[(N-1)-i]=power_vector\n",
    "    return result_array"
   ]
  },
  {
   "cell_type": "code",
   "execution_count": 18,
   "metadata": {},
   "outputs": [
    {
     "name": "stdout",
     "output_type": "stream",
     "text": [
      "Generate a Vandermonde matrix...\n",
      "Enter the value of N power :3\n",
      "Enter comma separated list of elements eg. 1,2,3 :\n",
      "1,2,4,5\n",
      "Input vector is :\n",
      "[1 2 4 5]\n",
      "Enter 'True' for increasing order of powers else enter 'False' :True\n",
      "The resultant Vandermonde matrix is :\n",
      "[[ 1  1  1]\n",
      " [ 1  2  4]\n",
      " [ 1  4 16]\n",
      " [ 1  5 25]]\n"
     ]
    }
   ],
   "source": [
    "import numpy as np\n",
    "print('Generate a Vandermonde matrix...')\n",
    "\n",
    "N=int(input('Enter the value of N power :'))\n",
    "\n",
    "print('Enter comma separated list of elements eg. 1,2,3 :')\n",
    "input_vector=input()\n",
    "input_list=list(map(int,input_vector.split(',')))\n",
    "x=np.array(input_list)\n",
    "print('Input vector is :')\n",
    "print(x)\n",
    "\n",
    "order=input(\"Enter 'True' for increasing order of powers else enter 'False' :\")\n",
    "\n",
    "result_array=vander_Input(x,N,order)\n",
    "print('The resultant Vandermonde matrix is :')\n",
    "print(result_array.T)"
   ]
  },
  {
   "cell_type": "code",
   "execution_count": 13,
   "metadata": {},
   "outputs": [
    {
     "data": {
      "text/plain": [
       "array([[ 1,  1,  1],\n",
       "       [ 4,  2,  1],\n",
       "       [16,  4,  1],\n",
       "       [25,  5,  1]], dtype=int32)"
      ]
     },
     "execution_count": 13,
     "metadata": {},
     "output_type": "execute_result"
    }
   ],
   "source": [
    "import numpy as np\n",
    "x = np.array([1, 2, 4, 5])\n",
    "N = 3\n",
    "#np.vander(x, N)\n",
    "np.column_stack([x**(N-1-i) for i in range(N)])"
   ]
  },
  {
   "cell_type": "code",
   "execution_count": null,
   "metadata": {},
   "outputs": [],
   "source": []
  }
 ],
 "metadata": {
  "kernelspec": {
   "display_name": "Python 3",
   "language": "python",
   "name": "python3"
  },
  "language_info": {
   "codemirror_mode": {
    "name": "ipython",
    "version": 3
   },
   "file_extension": ".py",
   "mimetype": "text/x-python",
   "name": "python",
   "nbconvert_exporter": "python",
   "pygments_lexer": "ipython3",
   "version": "3.6.5"
  }
 },
 "nbformat": 4,
 "nbformat_minor": 2
}
